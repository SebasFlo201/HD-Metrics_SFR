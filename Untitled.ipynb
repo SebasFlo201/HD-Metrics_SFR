{
 "cells": [
  {
   "cell_type": "markdown",
   "id": "a5995363-3b3b-418f-9f04-2cbef3b8ad6f",
   "metadata": {},
   "source": [
    "$\\frac{d}{dx}\\phi(x) = -x\\phi(x)$\n",
    "$\\frac{d}{dx}\\Phi(x) = \\phi(x)$"
   ]
  },
  {
   "cell_type": "code",
   "execution_count": null,
   "id": "92e83cf0-cd1d-40fa-9bdd-00a4398d2d11",
   "metadata": {},
   "outputs": [],
   "source": []
  }
 ],
 "metadata": {
  "kernelspec": {
   "display_name": "Python 3 (ipykernel)",
   "language": "python",
   "name": "python3"
  },
  "language_info": {
   "codemirror_mode": {
    "name": "ipython",
    "version": 3
   },
   "file_extension": ".py",
   "mimetype": "text/x-python",
   "name": "python",
   "nbconvert_exporter": "python",
   "pygments_lexer": "ipython3",
   "version": "3.11.0"
  }
 },
 "nbformat": 4,
 "nbformat_minor": 5
}
